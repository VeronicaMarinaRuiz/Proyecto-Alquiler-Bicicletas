{
 "cells": [
  {
   "cell_type": "code",
   "execution_count": 1,
   "metadata": {},
   "outputs": [],
   "source": [
    "# Tratamiento de datos\n",
    "# -----------------------------------------------------------------------\n",
    "import numpy as np\n",
    "import pandas as pd\n",
    "\n",
    "# Gráficos\n",
    "# ------------------------------------------------------------------------\n",
    "import matplotlib.pyplot as plt\n",
    "import seaborn as sns\n",
    "\n",
    "\n",
    "# Guardar transformers\n",
    "import pickle\n",
    "\n",
    "\n",
    "# Preprocesado\n",
    "from sklearn.preprocessing import RobustScaler\n",
    "\n",
    "\n",
    "#  Modelado y evaluación\n",
    "# -----------------------------------------------------------------------------\n",
    "from sklearn.model_selection import train_test_split\n",
    "from sklearn.linear_model import LinearRegression\n",
    "from sklearn.metrics import r2_score, mean_squared_error, mean_absolute_error"
   ]
  },
  {
   "cell_type": "code",
   "execution_count": 2,
   "metadata": {},
   "outputs": [
    {
     "data": {
      "text/html": [
       "<div>\n",
       "<style scoped>\n",
       "    .dataframe tbody tr th:only-of-type {\n",
       "        vertical-align: middle;\n",
       "    }\n",
       "\n",
       "    .dataframe tbody tr th {\n",
       "        vertical-align: top;\n",
       "    }\n",
       "\n",
       "    .dataframe thead th {\n",
       "        text-align: right;\n",
       "    }\n",
       "</style>\n",
       "<table border=\"1\" class=\"dataframe\">\n",
       "  <thead>\n",
       "    <tr style=\"text-align: right;\">\n",
       "      <th></th>\n",
       "      <th>estacion</th>\n",
       "      <th>año</th>\n",
       "      <th>mes</th>\n",
       "      <th>dia_semana</th>\n",
       "      <th>dias_laborables</th>\n",
       "      <th>tiempo</th>\n",
       "      <th>temperatura</th>\n",
       "      <th>humedad</th>\n",
       "      <th>velocidad_viento</th>\n",
       "      <th>usuarios_casuales</th>\n",
       "    </tr>\n",
       "  </thead>\n",
       "  <tbody>\n",
       "    <tr>\n",
       "      <th>0</th>\n",
       "      <td>1.0</td>\n",
       "      <td>1.0</td>\n",
       "      <td>1.0</td>\n",
       "      <td>2.67</td>\n",
       "      <td>1.79</td>\n",
       "      <td>4.25</td>\n",
       "      <td>-0.486274</td>\n",
       "      <td>0.855582</td>\n",
       "      <td>-0.208909</td>\n",
       "      <td>331</td>\n",
       "    </tr>\n",
       "    <tr>\n",
       "      <th>1</th>\n",
       "      <td>1.0</td>\n",
       "      <td>1.0</td>\n",
       "      <td>1.0</td>\n",
       "      <td>1.83</td>\n",
       "      <td>1.00</td>\n",
       "      <td>4.25</td>\n",
       "      <td>-0.425690</td>\n",
       "      <td>0.332722</td>\n",
       "      <td>0.687550</td>\n",
       "      <td>131</td>\n",
       "    </tr>\n",
       "  </tbody>\n",
       "</table>\n",
       "</div>"
      ],
      "text/plain": [
       "   estacion  año  mes  dia_semana  dias_laborables  tiempo  temperatura  \\\n",
       "0       1.0  1.0  1.0        2.67             1.79    4.25    -0.486274   \n",
       "1       1.0  1.0  1.0        1.83             1.00    4.25    -0.425690   \n",
       "\n",
       "    humedad  velocidad_viento  usuarios_casuales  \n",
       "0  0.855582         -0.208909                331  \n",
       "1  0.332722          0.687550                131  "
      ]
     },
     "execution_count": 2,
     "metadata": {},
     "output_type": "execute_result"
    }
   ],
   "source": [
    "df_casual = pd.read_pickle('../../../datos_finales/archivo_casual_est_enc2.pkl')\n",
    "df_casual.head(2)"
   ]
  },
  {
   "cell_type": "code",
   "execution_count": 3,
   "metadata": {},
   "outputs": [
    {
     "data": {
      "text/html": [
       "<div>\n",
       "<style scoped>\n",
       "    .dataframe tbody tr th:only-of-type {\n",
       "        vertical-align: middle;\n",
       "    }\n",
       "\n",
       "    .dataframe tbody tr th {\n",
       "        vertical-align: top;\n",
       "    }\n",
       "\n",
       "    .dataframe thead th {\n",
       "        text-align: right;\n",
       "    }\n",
       "</style>\n",
       "<table border=\"1\" class=\"dataframe\">\n",
       "  <thead>\n",
       "    <tr style=\"text-align: right;\">\n",
       "      <th></th>\n",
       "      <th>estacion</th>\n",
       "      <th>año</th>\n",
       "      <th>mes</th>\n",
       "      <th>dia_semana</th>\n",
       "      <th>dias_laborables</th>\n",
       "      <th>tiempo</th>\n",
       "      <th>temperatura</th>\n",
       "      <th>humedad</th>\n",
       "      <th>velocidad_viento</th>\n",
       "      <th>usuarios_casuales</th>\n",
       "    </tr>\n",
       "  </thead>\n",
       "  <tbody>\n",
       "    <tr>\n",
       "      <th>0</th>\n",
       "      <td>invierno</td>\n",
       "      <td>2018</td>\n",
       "      <td>Enero</td>\n",
       "      <td>Lunes</td>\n",
       "      <td>festivo</td>\n",
       "      <td>nuboso</td>\n",
       "      <td>-0.486274</td>\n",
       "      <td>0.855582</td>\n",
       "      <td>-0.208909</td>\n",
       "      <td>331</td>\n",
       "    </tr>\n",
       "    <tr>\n",
       "      <th>1</th>\n",
       "      <td>invierno</td>\n",
       "      <td>2018</td>\n",
       "      <td>Enero</td>\n",
       "      <td>Martes</td>\n",
       "      <td>laborable</td>\n",
       "      <td>nuboso</td>\n",
       "      <td>-0.425690</td>\n",
       "      <td>0.332722</td>\n",
       "      <td>0.687550</td>\n",
       "      <td>131</td>\n",
       "    </tr>\n",
       "  </tbody>\n",
       "</table>\n",
       "</div>"
      ],
      "text/plain": [
       "   estacion   año    mes dia_semana dias_laborables  tiempo  temperatura  \\\n",
       "0  invierno  2018  Enero      Lunes         festivo  nuboso    -0.486274   \n",
       "1  invierno  2018  Enero     Martes       laborable  nuboso    -0.425690   \n",
       "\n",
       "    humedad  velocidad_viento  usuarios_casuales  \n",
       "0  0.855582         -0.208909                331  \n",
       "1  0.332722          0.687550                131  "
      ]
     },
     "execution_count": 3,
     "metadata": {},
     "output_type": "execute_result"
    }
   ],
   "source": [
    "df_casual_limpio = pd.read_pickle('../../../datos_finales/archivo_casual_est.pkl')\n",
    "df_casual_limpio.head(2)"
   ]
  },
  {
   "cell_type": "markdown",
   "metadata": {},
   "source": [
    "### Inputs"
   ]
  },
  {
   "cell_type": "code",
   "execution_count": 7,
   "metadata": {},
   "outputs": [],
   "source": [
    "estacion = input('Especifica la estación').lower()\n",
    "año = int(input('Especifica el año'))\n",
    "mes = input('Especifica el mes').lower().capitalize()\n",
    "dia_semana = input('Especifica el dia de la semana').lower().capitalize()\n",
    "dias_laborables = input('Especifica si es día es laborable/festivo/fin de semana').lower()\n",
    "tiempo = input('Especifica si es día es nuboso/despejado/lluvioso').lower()\n",
    "temperatura = int(input('Especifica la temperatura'))\n",
    "humedad = int(input('Especifica la humedad'))\n",
    "velocidad_viento = int(input('Especifica la velocidad del viento'))"
   ]
  },
  {
   "cell_type": "code",
   "execution_count": 13,
   "metadata": {},
   "outputs": [],
   "source": [
    "diccionario_aut = {}"
   ]
  },
  {
   "cell_type": "code",
   "execution_count": 14,
   "metadata": {},
   "outputs": [],
   "source": [
    "for col in df_casual.columns[:-1]:\n",
    "    diccionario_aut[col] = globals()[col]"
   ]
  },
  {
   "cell_type": "code",
   "execution_count": 19,
   "metadata": {},
   "outputs": [
    {
     "data": {
      "text/plain": [
       "{'estacion': 'otoño',\n",
       " 'año': 2019,\n",
       " 'mes': 'Octubre',\n",
       " 'dia_semana': 'Martes',\n",
       " 'dias_laborables': 'laborable',\n",
       " 'tiempo': 'despejado',\n",
       " 'temperatura': 25,\n",
       " 'humedad': 20,\n",
       " 'velocidad_viento': 5}"
      ]
     },
     "execution_count": 19,
     "metadata": {},
     "output_type": "execute_result"
    }
   ],
   "source": [
    "diccionario_aut"
   ]
  },
  {
   "cell_type": "code",
   "execution_count": 30,
   "metadata": {},
   "outputs": [],
   "source": [
    "usuario = pd.DataFrame(diccionario_aut,index=[0])"
   ]
  },
  {
   "cell_type": "code",
   "execution_count": 31,
   "metadata": {},
   "outputs": [
    {
     "data": {
      "text/html": [
       "<div>\n",
       "<style scoped>\n",
       "    .dataframe tbody tr th:only-of-type {\n",
       "        vertical-align: middle;\n",
       "    }\n",
       "\n",
       "    .dataframe tbody tr th {\n",
       "        vertical-align: top;\n",
       "    }\n",
       "\n",
       "    .dataframe thead th {\n",
       "        text-align: right;\n",
       "    }\n",
       "</style>\n",
       "<table border=\"1\" class=\"dataframe\">\n",
       "  <thead>\n",
       "    <tr style=\"text-align: right;\">\n",
       "      <th></th>\n",
       "      <th>estacion</th>\n",
       "      <th>año</th>\n",
       "      <th>mes</th>\n",
       "      <th>dia_semana</th>\n",
       "      <th>dias_laborables</th>\n",
       "      <th>tiempo</th>\n",
       "      <th>temperatura</th>\n",
       "      <th>humedad</th>\n",
       "      <th>velocidad_viento</th>\n",
       "    </tr>\n",
       "  </thead>\n",
       "  <tbody>\n",
       "    <tr>\n",
       "      <th>0</th>\n",
       "      <td>otoño</td>\n",
       "      <td>2019</td>\n",
       "      <td>Octubre</td>\n",
       "      <td>Martes</td>\n",
       "      <td>laborable</td>\n",
       "      <td>despejado</td>\n",
       "      <td>25</td>\n",
       "      <td>20</td>\n",
       "      <td>5</td>\n",
       "    </tr>\n",
       "  </tbody>\n",
       "</table>\n",
       "</div>"
      ],
      "text/plain": [
       "  estacion   año      mes dia_semana dias_laborables     tiempo  temperatura  \\\n",
       "0    otoño  2019  Octubre     Martes       laborable  despejado           25   \n",
       "\n",
       "   humedad  velocidad_viento  \n",
       "0       20                 5  "
      ]
     },
     "execution_count": 31,
     "metadata": {},
     "output_type": "execute_result"
    }
   ],
   "source": [
    "usuario"
   ]
  },
  {
   "cell_type": "markdown",
   "metadata": {},
   "source": [
    "### Estandarización"
   ]
  },
  {
   "cell_type": "code",
   "execution_count": 33,
   "metadata": {},
   "outputs": [],
   "source": [
    "with open(\"../../../datos_finales/predicciones/estandarizacion.pkl\", \"rb\") as est:\n",
    "    estandarizacion = pickle.load(est)"
   ]
  },
  {
   "cell_type": "code",
   "execution_count": 36,
   "metadata": {},
   "outputs": [
    {
     "data": {
      "text/html": [
       "<div>\n",
       "<style scoped>\n",
       "    .dataframe tbody tr th:only-of-type {\n",
       "        vertical-align: middle;\n",
       "    }\n",
       "\n",
       "    .dataframe tbody tr th {\n",
       "        vertical-align: top;\n",
       "    }\n",
       "\n",
       "    .dataframe thead th {\n",
       "        text-align: right;\n",
       "    }\n",
       "</style>\n",
       "<table border=\"1\" class=\"dataframe\">\n",
       "  <thead>\n",
       "    <tr style=\"text-align: right;\">\n",
       "      <th></th>\n",
       "      <th>temperatura</th>\n",
       "      <th>humedad</th>\n",
       "      <th>velocidad_viento</th>\n",
       "    </tr>\n",
       "  </thead>\n",
       "  <tbody>\n",
       "    <tr>\n",
       "      <th>0</th>\n",
       "      <td>25</td>\n",
       "      <td>20</td>\n",
       "      <td>5</td>\n",
       "    </tr>\n",
       "  </tbody>\n",
       "</table>\n",
       "</div>"
      ],
      "text/plain": [
       "   temperatura  humedad  velocidad_viento\n",
       "0           25       20                 5"
      ]
     },
     "execution_count": 36,
     "metadata": {},
     "output_type": "execute_result"
    }
   ],
   "source": [
    "numericas = usuario.select_dtypes(include=np.number).drop('año',axis=1)\n",
    "numericas"
   ]
  },
  {
   "cell_type": "code",
   "execution_count": 37,
   "metadata": {},
   "outputs": [
    {
     "data": {
      "text/html": [
       "<div>\n",
       "<style scoped>\n",
       "    .dataframe tbody tr th:only-of-type {\n",
       "        vertical-align: middle;\n",
       "    }\n",
       "\n",
       "    .dataframe tbody tr th {\n",
       "        vertical-align: top;\n",
       "    }\n",
       "\n",
       "    .dataframe thead th {\n",
       "        text-align: right;\n",
       "    }\n",
       "</style>\n",
       "<table border=\"1\" class=\"dataframe\">\n",
       "  <thead>\n",
       "    <tr style=\"text-align: right;\">\n",
       "      <th></th>\n",
       "      <th>temperatura</th>\n",
       "      <th>humedad</th>\n",
       "      <th>velocidad_viento</th>\n",
       "    </tr>\n",
       "  </thead>\n",
       "  <tbody>\n",
       "    <tr>\n",
       "      <th>0</th>\n",
       "      <td>0.346948</td>\n",
       "      <td>-2.03077</td>\n",
       "      <td>-1.082228</td>\n",
       "    </tr>\n",
       "  </tbody>\n",
       "</table>\n",
       "</div>"
      ],
      "text/plain": [
       "   temperatura  humedad  velocidad_viento\n",
       "0     0.346948 -2.03077         -1.082228"
      ]
     },
     "execution_count": 37,
     "metadata": {},
     "output_type": "execute_result"
    }
   ],
   "source": [
    "numericas_robust = pd.DataFrame(estandarizacion.transform(numericas), columns = numericas.columns)\n",
    "numericas_robust.head(2)"
   ]
  },
  {
   "cell_type": "code",
   "execution_count": 38,
   "metadata": {},
   "outputs": [
    {
     "data": {
      "text/html": [
       "<div>\n",
       "<style scoped>\n",
       "    .dataframe tbody tr th:only-of-type {\n",
       "        vertical-align: middle;\n",
       "    }\n",
       "\n",
       "    .dataframe tbody tr th {\n",
       "        vertical-align: top;\n",
       "    }\n",
       "\n",
       "    .dataframe thead th {\n",
       "        text-align: right;\n",
       "    }\n",
       "</style>\n",
       "<table border=\"1\" class=\"dataframe\">\n",
       "  <thead>\n",
       "    <tr style=\"text-align: right;\">\n",
       "      <th></th>\n",
       "      <th>estacion</th>\n",
       "      <th>año</th>\n",
       "      <th>mes</th>\n",
       "      <th>dia_semana</th>\n",
       "      <th>dias_laborables</th>\n",
       "      <th>tiempo</th>\n",
       "      <th>temperatura</th>\n",
       "      <th>humedad</th>\n",
       "      <th>velocidad_viento</th>\n",
       "    </tr>\n",
       "  </thead>\n",
       "  <tbody>\n",
       "    <tr>\n",
       "      <th>0</th>\n",
       "      <td>otoño</td>\n",
       "      <td>2019</td>\n",
       "      <td>Octubre</td>\n",
       "      <td>Martes</td>\n",
       "      <td>laborable</td>\n",
       "      <td>despejado</td>\n",
       "      <td>0.346948</td>\n",
       "      <td>-2.03077</td>\n",
       "      <td>-1.082228</td>\n",
       "    </tr>\n",
       "  </tbody>\n",
       "</table>\n",
       "</div>"
      ],
      "text/plain": [
       "  estacion   año      mes dia_semana dias_laborables     tiempo  temperatura  \\\n",
       "0    otoño  2019  Octubre     Martes       laborable  despejado     0.346948   \n",
       "\n",
       "   humedad  velocidad_viento  \n",
       "0 -2.03077         -1.082228  "
      ]
     },
     "execution_count": 38,
     "metadata": {},
     "output_type": "execute_result"
    }
   ],
   "source": [
    "usuario[numericas_robust.columns] = numericas_robust\n",
    "usuario"
   ]
  },
  {
   "cell_type": "markdown",
   "metadata": {},
   "source": [
    "### Encoding"
   ]
  },
  {
   "cell_type": "code",
   "execution_count": 40,
   "metadata": {},
   "outputs": [
    {
     "data": {
      "text/html": [
       "<div>\n",
       "<style scoped>\n",
       "    .dataframe tbody tr th:only-of-type {\n",
       "        vertical-align: middle;\n",
       "    }\n",
       "\n",
       "    .dataframe tbody tr th {\n",
       "        vertical-align: top;\n",
       "    }\n",
       "\n",
       "    .dataframe thead th {\n",
       "        text-align: right;\n",
       "    }\n",
       "</style>\n",
       "<table border=\"1\" class=\"dataframe\">\n",
       "  <thead>\n",
       "    <tr style=\"text-align: right;\">\n",
       "      <th></th>\n",
       "      <th>estacion</th>\n",
       "      <th>año</th>\n",
       "      <th>mes</th>\n",
       "      <th>dia_semana</th>\n",
       "      <th>dias_laborables</th>\n",
       "      <th>tiempo</th>\n",
       "      <th>temperatura</th>\n",
       "      <th>humedad</th>\n",
       "      <th>velocidad_viento</th>\n",
       "    </tr>\n",
       "  </thead>\n",
       "  <tbody>\n",
       "    <tr>\n",
       "      <th>0</th>\n",
       "      <td>otoño</td>\n",
       "      <td>1.47</td>\n",
       "      <td>Octubre</td>\n",
       "      <td>Martes</td>\n",
       "      <td>laborable</td>\n",
       "      <td>despejado</td>\n",
       "      <td>0.346948</td>\n",
       "      <td>-2.03077</td>\n",
       "      <td>-1.082228</td>\n",
       "    </tr>\n",
       "  </tbody>\n",
       "</table>\n",
       "</div>"
      ],
      "text/plain": [
       "  estacion   año      mes dia_semana dias_laborables     tiempo  temperatura  \\\n",
       "0    otoño  1.47  Octubre     Martes       laborable  despejado     0.346948   \n",
       "\n",
       "   humedad  velocidad_viento  \n",
       "0 -2.03077         -1.082228  "
      ]
     },
     "execution_count": 40,
     "metadata": {},
     "output_type": "execute_result"
    }
   ],
   "source": [
    "usuario.loc[0,'año'] = 1.47\n",
    "usuario"
   ]
  },
  {
   "cell_type": "code",
   "execution_count": 43,
   "metadata": {},
   "outputs": [],
   "source": [
    "def encoding(dataframe,dataframe_final, columnas,variable_respuesta):\n",
    "    \"\"\"\n",
    "    Esta función realiza el encoding de manera automática teniendo en cuenta las medias de los valores únicos de todas las variables categóricas.\n",
    "    Args:\n",
    "        dataframe (dataframe): el dataframe donde se encuentran las columnas categóricas.\n",
    "        columnas (category): las columnas categóricas sobre las cuales queremos hacder el encoding.\n",
    "        variable_respuesta (str): nuestra variable respuesta la cual utilizamos para saber la mediana.\n",
    "    Retuns: None\n",
    "    \"\"\"\n",
    "    for col in columnas:\n",
    "        diccionario = {}\n",
    "        df_mediana = dataframe.groupby(col)[variable_respuesta].median().reset_index().sort_values(by=variable_respuesta)\n",
    "        df_mediana['encoding'] = round(df_mediana[variable_respuesta]/df_mediana.iloc[0,1], 2)\n",
    "        for indice in range(df_mediana.shape[0]):\n",
    "            diccionario[df_mediana.iloc[indice,0]] = df_mediana.iloc[indice,2]\n",
    "        dataframe_final[col] = dataframe_final[col].map(diccionario)"
   ]
  },
  {
   "cell_type": "code",
   "execution_count": 47,
   "metadata": {},
   "outputs": [
    {
     "data": {
      "text/html": [
       "<div>\n",
       "<style scoped>\n",
       "    .dataframe tbody tr th:only-of-type {\n",
       "        vertical-align: middle;\n",
       "    }\n",
       "\n",
       "    .dataframe tbody tr th {\n",
       "        vertical-align: top;\n",
       "    }\n",
       "\n",
       "    .dataframe thead th {\n",
       "        text-align: right;\n",
       "    }\n",
       "</style>\n",
       "<table border=\"1\" class=\"dataframe\">\n",
       "  <thead>\n",
       "    <tr style=\"text-align: right;\">\n",
       "      <th></th>\n",
       "      <th>estacion</th>\n",
       "      <th>mes</th>\n",
       "      <th>dia_semana</th>\n",
       "      <th>dias_laborables</th>\n",
       "      <th>tiempo</th>\n",
       "    </tr>\n",
       "  </thead>\n",
       "  <tbody>\n",
       "    <tr>\n",
       "      <th>0</th>\n",
       "      <td>invierno</td>\n",
       "      <td>Enero</td>\n",
       "      <td>Lunes</td>\n",
       "      <td>festivo</td>\n",
       "      <td>nuboso</td>\n",
       "    </tr>\n",
       "    <tr>\n",
       "      <th>1</th>\n",
       "      <td>invierno</td>\n",
       "      <td>Enero</td>\n",
       "      <td>Martes</td>\n",
       "      <td>laborable</td>\n",
       "      <td>nuboso</td>\n",
       "    </tr>\n",
       "    <tr>\n",
       "      <th>2</th>\n",
       "      <td>invierno</td>\n",
       "      <td>Enero</td>\n",
       "      <td>Miercoles</td>\n",
       "      <td>laborable</td>\n",
       "      <td>despejado</td>\n",
       "    </tr>\n",
       "    <tr>\n",
       "      <th>3</th>\n",
       "      <td>invierno</td>\n",
       "      <td>Enero</td>\n",
       "      <td>Jueves</td>\n",
       "      <td>laborable</td>\n",
       "      <td>despejado</td>\n",
       "    </tr>\n",
       "    <tr>\n",
       "      <th>4</th>\n",
       "      <td>invierno</td>\n",
       "      <td>Enero</td>\n",
       "      <td>Viernes</td>\n",
       "      <td>laborable</td>\n",
       "      <td>despejado</td>\n",
       "    </tr>\n",
       "    <tr>\n",
       "      <th>...</th>\n",
       "      <td>...</td>\n",
       "      <td>...</td>\n",
       "      <td>...</td>\n",
       "      <td>...</td>\n",
       "      <td>...</td>\n",
       "    </tr>\n",
       "    <tr>\n",
       "      <th>725</th>\n",
       "      <td>invierno</td>\n",
       "      <td>Diciembre</td>\n",
       "      <td>Viernes</td>\n",
       "      <td>laborable</td>\n",
       "      <td>nuboso</td>\n",
       "    </tr>\n",
       "    <tr>\n",
       "      <th>726</th>\n",
       "      <td>invierno</td>\n",
       "      <td>Diciembre</td>\n",
       "      <td>Domingo</td>\n",
       "      <td>fin de semana</td>\n",
       "      <td>nuboso</td>\n",
       "    </tr>\n",
       "    <tr>\n",
       "      <th>727</th>\n",
       "      <td>invierno</td>\n",
       "      <td>Diciembre</td>\n",
       "      <td>Sabado</td>\n",
       "      <td>fin de semana</td>\n",
       "      <td>nuboso</td>\n",
       "    </tr>\n",
       "    <tr>\n",
       "      <th>728</th>\n",
       "      <td>invierno</td>\n",
       "      <td>Diciembre</td>\n",
       "      <td>Lunes</td>\n",
       "      <td>laborable</td>\n",
       "      <td>despejado</td>\n",
       "    </tr>\n",
       "    <tr>\n",
       "      <th>729</th>\n",
       "      <td>invierno</td>\n",
       "      <td>Diciembre</td>\n",
       "      <td>Martes</td>\n",
       "      <td>laborable</td>\n",
       "      <td>nuboso</td>\n",
       "    </tr>\n",
       "  </tbody>\n",
       "</table>\n",
       "<p>730 rows × 5 columns</p>\n",
       "</div>"
      ],
      "text/plain": [
       "     estacion        mes dia_semana dias_laborables     tiempo\n",
       "0    invierno      Enero      Lunes         festivo     nuboso\n",
       "1    invierno      Enero     Martes       laborable     nuboso\n",
       "2    invierno      Enero  Miercoles       laborable  despejado\n",
       "3    invierno      Enero     Jueves       laborable  despejado\n",
       "4    invierno      Enero    Viernes       laborable  despejado\n",
       "..        ...        ...        ...             ...        ...\n",
       "725  invierno  Diciembre    Viernes       laborable     nuboso\n",
       "726  invierno  Diciembre    Domingo   fin de semana     nuboso\n",
       "727  invierno  Diciembre     Sabado   fin de semana     nuboso\n",
       "728  invierno  Diciembre      Lunes       laborable  despejado\n",
       "729  invierno  Diciembre     Martes       laborable     nuboso\n",
       "\n",
       "[730 rows x 5 columns]"
      ]
     },
     "execution_count": 47,
     "metadata": {},
     "output_type": "execute_result"
    }
   ],
   "source": [
    "categoricas = df_casual_limpio.select_dtypes(include='O')\n",
    "categoricas"
   ]
  },
  {
   "cell_type": "code",
   "execution_count": 48,
   "metadata": {},
   "outputs": [],
   "source": [
    "encoding(df_casual_limpio,usuario, categoricas.columns,'usuarios_casuales')"
   ]
  },
  {
   "cell_type": "code",
   "execution_count": 49,
   "metadata": {},
   "outputs": [
    {
     "data": {
      "text/html": [
       "<div>\n",
       "<style scoped>\n",
       "    .dataframe tbody tr th:only-of-type {\n",
       "        vertical-align: middle;\n",
       "    }\n",
       "\n",
       "    .dataframe tbody tr th {\n",
       "        vertical-align: top;\n",
       "    }\n",
       "\n",
       "    .dataframe thead th {\n",
       "        text-align: right;\n",
       "    }\n",
       "</style>\n",
       "<table border=\"1\" class=\"dataframe\">\n",
       "  <thead>\n",
       "    <tr style=\"text-align: right;\">\n",
       "      <th></th>\n",
       "      <th>estacion</th>\n",
       "      <th>año</th>\n",
       "      <th>mes</th>\n",
       "      <th>dia_semana</th>\n",
       "      <th>dias_laborables</th>\n",
       "      <th>tiempo</th>\n",
       "      <th>temperatura</th>\n",
       "      <th>humedad</th>\n",
       "      <th>velocidad_viento</th>\n",
       "    </tr>\n",
       "  </thead>\n",
       "  <tbody>\n",
       "    <tr>\n",
       "      <th>0</th>\n",
       "      <td>2.48</td>\n",
       "      <td>1.47</td>\n",
       "      <td>6.1</td>\n",
       "      <td>1.83</td>\n",
       "      <td>1.0</td>\n",
       "      <td>6.58</td>\n",
       "      <td>0.346948</td>\n",
       "      <td>-2.03077</td>\n",
       "      <td>-1.082228</td>\n",
       "    </tr>\n",
       "  </tbody>\n",
       "</table>\n",
       "</div>"
      ],
      "text/plain": [
       "   estacion   año  mes  dia_semana  dias_laborables  tiempo  temperatura  \\\n",
       "0      2.48  1.47  6.1        1.83              1.0    6.58     0.346948   \n",
       "\n",
       "   humedad  velocidad_viento  \n",
       "0 -2.03077         -1.082228  "
      ]
     },
     "execution_count": 49,
     "metadata": {},
     "output_type": "execute_result"
    }
   ],
   "source": [
    "usuario"
   ]
  },
  {
   "cell_type": "markdown",
   "metadata": {},
   "source": [
    "### Predicción"
   ]
  },
  {
   "cell_type": "code",
   "execution_count": 52,
   "metadata": {},
   "outputs": [],
   "source": [
    "with open(\"../../../datos_finales/predicciones/mejor_modelo_causal.pkl\", \"rb\") as modelo:\n",
    "    mejor_modelo = pickle.load(modelo)"
   ]
  },
  {
   "cell_type": "code",
   "execution_count": 54,
   "metadata": {},
   "outputs": [
    {
     "data": {
      "text/plain": [
       "1675.2035587939183"
      ]
     },
     "execution_count": 54,
     "metadata": {},
     "output_type": "execute_result"
    }
   ],
   "source": [
    "mejor_modelo.predict(usuario)[0]"
   ]
  },
  {
   "cell_type": "code",
   "execution_count": 56,
   "metadata": {},
   "outputs": [
    {
     "data": {
      "text/html": [
       "<div>\n",
       "<style scoped>\n",
       "    .dataframe tbody tr th:only-of-type {\n",
       "        vertical-align: middle;\n",
       "    }\n",
       "\n",
       "    .dataframe tbody tr th {\n",
       "        vertical-align: top;\n",
       "    }\n",
       "\n",
       "    .dataframe thead th {\n",
       "        text-align: right;\n",
       "    }\n",
       "</style>\n",
       "<table border=\"1\" class=\"dataframe\">\n",
       "  <thead>\n",
       "    <tr style=\"text-align: right;\">\n",
       "      <th></th>\n",
       "      <th>MAE</th>\n",
       "      <th>MSE</th>\n",
       "      <th>RMSE</th>\n",
       "      <th>R2</th>\n",
       "      <th>set</th>\n",
       "      <th>modelo</th>\n",
       "    </tr>\n",
       "  </thead>\n",
       "  <tbody>\n",
       "    <tr>\n",
       "      <th>0</th>\n",
       "      <td>246.577182</td>\n",
       "      <td>122397.720814</td>\n",
       "      <td>349.853856</td>\n",
       "      <td>0.74523</td>\n",
       "      <td>test</td>\n",
       "      <td>Random Forest</td>\n",
       "    </tr>\n",
       "    <tr>\n",
       "      <th>1</th>\n",
       "      <td>236.504806</td>\n",
       "      <td>119807.611363</td>\n",
       "      <td>346.132361</td>\n",
       "      <td>0.74384</td>\n",
       "      <td>train</td>\n",
       "      <td>Random Forest</td>\n",
       "    </tr>\n",
       "  </tbody>\n",
       "</table>\n",
       "</div>"
      ],
      "text/plain": [
       "          MAE            MSE        RMSE       R2    set         modelo\n",
       "0  246.577182  122397.720814  349.853856  0.74523   test  Random Forest\n",
       "1  236.504806  119807.611363  346.132361  0.74384  train  Random Forest"
      ]
     },
     "execution_count": 56,
     "metadata": {},
     "output_type": "execute_result"
    }
   ],
   "source": [
    "metricas = pd.read_pickle(\"../../../datos_finales/predicciones/metricas_casuales.pkl\")\n",
    "metricas"
   ]
  },
  {
   "cell_type": "code",
   "execution_count": 57,
   "metadata": {},
   "outputs": [
    {
     "data": {
      "text/plain": [
       "349.8538563664424"
      ]
     },
     "execution_count": 57,
     "metadata": {},
     "output_type": "execute_result"
    }
   ],
   "source": [
    "metricas.loc[0,'RMSE']"
   ]
  },
  {
   "cell_type": "code",
   "execution_count": 61,
   "metadata": {},
   "outputs": [
    {
     "name": "stdout",
     "output_type": "stream",
     "text": [
      "La predicciones de bicicletas alquiladas para ese día por los cliente casuales es entre 2025.0 y 1325.0\n"
     ]
    }
   ],
   "source": [
    "print(f'La predicciones de bicicletas alquiladas para ese día por los clientes casuales es entre {round(mejor_modelo.predict(usuario)[0] + metricas.loc[0,\"RMSE\"],0)} y {round(mejor_modelo.predict(usuario)[0] - metricas.loc[0,\"RMSE\"],0)}')"
   ]
  }
 ],
 "metadata": {
  "kernelspec": {
   "display_name": "base",
   "language": "python",
   "name": "python3"
  },
  "language_info": {
   "codemirror_mode": {
    "name": "ipython",
    "version": 3
   },
   "file_extension": ".py",
   "mimetype": "text/x-python",
   "name": "python",
   "nbconvert_exporter": "python",
   "pygments_lexer": "ipython3",
   "version": "3.9.7"
  },
  "orig_nbformat": 4
 },
 "nbformat": 4,
 "nbformat_minor": 2
}
