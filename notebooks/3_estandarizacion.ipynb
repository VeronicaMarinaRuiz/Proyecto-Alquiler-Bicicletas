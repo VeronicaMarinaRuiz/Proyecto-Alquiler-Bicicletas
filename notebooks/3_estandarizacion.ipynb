{
 "cells": [
  {
   "cell_type": "code",
   "execution_count": 2,
   "metadata": {},
   "outputs": [],
   "source": [
    "# Tratamiento de datos\n",
    "import pandas as pd\n",
    "import numpy as np\n",
    "\n",
    "# Visualización\n",
    "import matplotlib.pyplot as plt\n",
    "import seaborn as sns\n",
    "\n",
    "# Estandarización\n",
    "from sklearn.preprocessing import RobustScaler\n",
    "from scipy.stats import kstest\n",
    "from sklearn.preprocessing import StandardScaler\n",
    "import pickle\n",
    "\n",
    "# Errores\n",
    "import warnings\n",
    "warnings.filterwarnings('ignore')"
   ]
  },
  {
   "cell_type": "code",
   "execution_count": 3,
   "metadata": {},
   "outputs": [
    {
     "data": {
      "text/html": [
       "<div>\n",
       "<style scoped>\n",
       "    .dataframe tbody tr th:only-of-type {\n",
       "        vertical-align: middle;\n",
       "    }\n",
       "\n",
       "    .dataframe tbody tr th {\n",
       "        vertical-align: top;\n",
       "    }\n",
       "\n",
       "    .dataframe thead th {\n",
       "        text-align: right;\n",
       "    }\n",
       "</style>\n",
       "<table border=\"1\" class=\"dataframe\">\n",
       "  <thead>\n",
       "    <tr style=\"text-align: right;\">\n",
       "      <th></th>\n",
       "      <th>estacion</th>\n",
       "      <th>año</th>\n",
       "      <th>mes</th>\n",
       "      <th>dia_semana</th>\n",
       "      <th>dias_laborables</th>\n",
       "      <th>tiempo</th>\n",
       "      <th>temperatura</th>\n",
       "      <th>humedad</th>\n",
       "      <th>velocidad_viento</th>\n",
       "      <th>usuarios_casuales</th>\n",
       "    </tr>\n",
       "  </thead>\n",
       "  <tbody>\n",
       "    <tr>\n",
       "      <th>0</th>\n",
       "      <td>invierno</td>\n",
       "      <td>2018</td>\n",
       "      <td>Enero</td>\n",
       "      <td>Lunes</td>\n",
       "      <td>festivo</td>\n",
       "      <td>nuboso</td>\n",
       "      <td>14.110847</td>\n",
       "      <td>80.5833</td>\n",
       "      <td>10.749882</td>\n",
       "      <td>331</td>\n",
       "    </tr>\n",
       "    <tr>\n",
       "      <th>1</th>\n",
       "      <td>invierno</td>\n",
       "      <td>2018</td>\n",
       "      <td>Enero</td>\n",
       "      <td>Martes</td>\n",
       "      <td>laborable</td>\n",
       "      <td>nuboso</td>\n",
       "      <td>14.902598</td>\n",
       "      <td>69.6087</td>\n",
       "      <td>16.652113</td>\n",
       "      <td>131</td>\n",
       "    </tr>\n",
       "  </tbody>\n",
       "</table>\n",
       "</div>"
      ],
      "text/plain": [
       "   estacion   año    mes dia_semana dias_laborables  tiempo  temperatura  \\\n",
       "0  invierno  2018  Enero      Lunes         festivo  nuboso    14.110847   \n",
       "1  invierno  2018  Enero     Martes       laborable  nuboso    14.902598   \n",
       "\n",
       "   humedad  velocidad_viento  usuarios_casuales  \n",
       "0  80.5833         10.749882                331  \n",
       "1  69.6087         16.652113                131  "
      ]
     },
     "execution_count": 3,
     "metadata": {},
     "output_type": "execute_result"
    }
   ],
   "source": [
    "df_casual = pd.read_pickle('../datos_finales/archivo_casual.pkl')\n",
    "df_casual.head(2)"
   ]
  },
  {
   "cell_type": "code",
   "execution_count": 4,
   "metadata": {},
   "outputs": [
    {
     "data": {
      "text/html": [
       "<div>\n",
       "<style scoped>\n",
       "    .dataframe tbody tr th:only-of-type {\n",
       "        vertical-align: middle;\n",
       "    }\n",
       "\n",
       "    .dataframe tbody tr th {\n",
       "        vertical-align: top;\n",
       "    }\n",
       "\n",
       "    .dataframe thead th {\n",
       "        text-align: right;\n",
       "    }\n",
       "</style>\n",
       "<table border=\"1\" class=\"dataframe\">\n",
       "  <thead>\n",
       "    <tr style=\"text-align: right;\">\n",
       "      <th></th>\n",
       "      <th>estacion</th>\n",
       "      <th>año</th>\n",
       "      <th>mes</th>\n",
       "      <th>dia_semana</th>\n",
       "      <th>dias_laborables</th>\n",
       "      <th>tiempo</th>\n",
       "      <th>temperatura</th>\n",
       "      <th>humedad</th>\n",
       "      <th>velocidad_viento</th>\n",
       "      <th>usuarios_registrados</th>\n",
       "    </tr>\n",
       "  </thead>\n",
       "  <tbody>\n",
       "    <tr>\n",
       "      <th>0</th>\n",
       "      <td>invierno</td>\n",
       "      <td>2018</td>\n",
       "      <td>Enero</td>\n",
       "      <td>Lunes</td>\n",
       "      <td>festivo</td>\n",
       "      <td>nuboso</td>\n",
       "      <td>14.110847</td>\n",
       "      <td>80.5833</td>\n",
       "      <td>10.749882</td>\n",
       "      <td>654</td>\n",
       "    </tr>\n",
       "    <tr>\n",
       "      <th>1</th>\n",
       "      <td>invierno</td>\n",
       "      <td>2018</td>\n",
       "      <td>Enero</td>\n",
       "      <td>Martes</td>\n",
       "      <td>laborable</td>\n",
       "      <td>nuboso</td>\n",
       "      <td>14.902598</td>\n",
       "      <td>69.6087</td>\n",
       "      <td>16.652113</td>\n",
       "      <td>670</td>\n",
       "    </tr>\n",
       "  </tbody>\n",
       "</table>\n",
       "</div>"
      ],
      "text/plain": [
       "   estacion   año    mes dia_semana dias_laborables  tiempo  temperatura  \\\n",
       "0  invierno  2018  Enero      Lunes         festivo  nuboso    14.110847   \n",
       "1  invierno  2018  Enero     Martes       laborable  nuboso    14.902598   \n",
       "\n",
       "   humedad  velocidad_viento  usuarios_registrados  \n",
       "0  80.5833         10.749882                   654  \n",
       "1  69.6087         16.652113                   670  "
      ]
     },
     "execution_count": 4,
     "metadata": {},
     "output_type": "execute_result"
    }
   ],
   "source": [
    "df_registrados = pd.read_pickle('../datos_finales/archivo_registrados.pkl')\n",
    "df_registrados.head(2)"
   ]
  },
  {
   "cell_type": "code",
   "execution_count": 5,
   "metadata": {},
   "outputs": [
    {
     "data": {
      "text/html": [
       "<div>\n",
       "<style scoped>\n",
       "    .dataframe tbody tr th:only-of-type {\n",
       "        vertical-align: middle;\n",
       "    }\n",
       "\n",
       "    .dataframe tbody tr th {\n",
       "        vertical-align: top;\n",
       "    }\n",
       "\n",
       "    .dataframe thead th {\n",
       "        text-align: right;\n",
       "    }\n",
       "</style>\n",
       "<table border=\"1\" class=\"dataframe\">\n",
       "  <thead>\n",
       "    <tr style=\"text-align: right;\">\n",
       "      <th></th>\n",
       "      <th>estacion</th>\n",
       "      <th>año</th>\n",
       "      <th>mes</th>\n",
       "      <th>dia_semana</th>\n",
       "      <th>dias_laborables</th>\n",
       "      <th>tiempo</th>\n",
       "      <th>temperatura</th>\n",
       "      <th>humedad</th>\n",
       "      <th>velocidad_viento</th>\n",
       "      <th>total_usuarios</th>\n",
       "    </tr>\n",
       "  </thead>\n",
       "  <tbody>\n",
       "    <tr>\n",
       "      <th>0</th>\n",
       "      <td>invierno</td>\n",
       "      <td>2018</td>\n",
       "      <td>Enero</td>\n",
       "      <td>Lunes</td>\n",
       "      <td>festivo</td>\n",
       "      <td>nuboso</td>\n",
       "      <td>14.110847</td>\n",
       "      <td>80.5833</td>\n",
       "      <td>10.749882</td>\n",
       "      <td>985</td>\n",
       "    </tr>\n",
       "    <tr>\n",
       "      <th>1</th>\n",
       "      <td>invierno</td>\n",
       "      <td>2018</td>\n",
       "      <td>Enero</td>\n",
       "      <td>Martes</td>\n",
       "      <td>laborable</td>\n",
       "      <td>nuboso</td>\n",
       "      <td>14.902598</td>\n",
       "      <td>69.6087</td>\n",
       "      <td>16.652113</td>\n",
       "      <td>801</td>\n",
       "    </tr>\n",
       "  </tbody>\n",
       "</table>\n",
       "</div>"
      ],
      "text/plain": [
       "   estacion   año    mes dia_semana dias_laborables  tiempo  temperatura  \\\n",
       "0  invierno  2018  Enero      Lunes         festivo  nuboso    14.110847   \n",
       "1  invierno  2018  Enero     Martes       laborable  nuboso    14.902598   \n",
       "\n",
       "   humedad  velocidad_viento  total_usuarios  \n",
       "0  80.5833         10.749882             985  \n",
       "1  69.6087         16.652113             801  "
      ]
     },
     "execution_count": 5,
     "metadata": {},
     "output_type": "execute_result"
    }
   ],
   "source": [
    "df_total = pd.read_pickle('../datos_finales/archivo_total.pkl')\n",
    "df_total.head(2)"
   ]
  },
  {
   "cell_type": "code",
   "execution_count": 6,
   "metadata": {},
   "outputs": [],
   "source": [
    "numericas = df_total.select_dtypes(np.number).drop(\"total_usuarios\", axis= 1).drop('año', axis = 1)"
   ]
  },
  {
   "cell_type": "markdown",
   "metadata": {},
   "source": [
    "### Robust Scaler"
   ]
  },
  {
   "cell_type": "code",
   "execution_count": 9,
   "metadata": {},
   "outputs": [
    {
     "data": {
      "text/html": [
       "<div>\n",
       "<style scoped>\n",
       "    .dataframe tbody tr th:only-of-type {\n",
       "        vertical-align: middle;\n",
       "    }\n",
       "\n",
       "    .dataframe tbody tr th {\n",
       "        vertical-align: top;\n",
       "    }\n",
       "\n",
       "    .dataframe thead th {\n",
       "        text-align: right;\n",
       "    }\n",
       "</style>\n",
       "<table border=\"1\" class=\"dataframe\">\n",
       "  <thead>\n",
       "    <tr style=\"text-align: right;\">\n",
       "      <th></th>\n",
       "      <th>temperatura</th>\n",
       "      <th>humedad</th>\n",
       "      <th>velocidad_viento</th>\n",
       "    </tr>\n",
       "  </thead>\n",
       "  <tbody>\n",
       "    <tr>\n",
       "      <th>0</th>\n",
       "      <td>-0.486274</td>\n",
       "      <td>0.855582</td>\n",
       "      <td>-0.208909</td>\n",
       "    </tr>\n",
       "    <tr>\n",
       "      <th>1</th>\n",
       "      <td>-0.425690</td>\n",
       "      <td>0.332722</td>\n",
       "      <td>0.687550</td>\n",
       "    </tr>\n",
       "  </tbody>\n",
       "</table>\n",
       "</div>"
      ],
      "text/plain": [
       "   temperatura   humedad  velocidad_viento\n",
       "0    -0.486274  0.855582         -0.208909\n",
       "1    -0.425690  0.332722          0.687550"
      ]
     },
     "execution_count": 9,
     "metadata": {},
     "output_type": "execute_result"
    }
   ],
   "source": [
    "robust = RobustScaler()\n",
    "numericas_robust = pd.DataFrame(robust.fit_transform(numericas), columns = numericas.columns)\n",
    "numericas_robust.head(2)"
   ]
  },
  {
   "cell_type": "code",
   "execution_count": 12,
   "metadata": {},
   "outputs": [],
   "source": [
    "with open (\"../datos_finales/predicciones/estandarizacion.pkl\", \"wb\") as f:\n",
    "    pickle.dump(robust, f)"
   ]
  },
  {
   "cell_type": "code",
   "execution_count": 13,
   "metadata": {},
   "outputs": [
    {
     "data": {
      "image/png": "[encoded data removed]",
      "text/plain": [
       "<Figure size 2160x720 with 3 Axes>"
      ]
     },
     "metadata": {
      "needs_background": "light"
     },
     "output_type": "display_data"
    }
   ],
   "source": [
    "fig, axes = plt.subplots(nrows = 1, ncols = 3, figsize = (30, 10))\n",
    "\n",
    "columnas_robust = numericas_robust.columns\n",
    "\n",
    "axes = axes.flat\n",
    "\n",
    "for i, colum in enumerate(columnas_robust): \n",
    "    sns.histplot(\n",
    "        data = numericas_robust,\n",
    "        x = colum,\n",
    "        kde = True,  \n",
    "        line_kws = {\"linewidth\": 2}, \n",
    "        alpha = 0.2, \n",
    "        ax = axes[i])\n",
    "    \n",
    "    \n",
    "    axes[i].set_title(colum, fontsize = 15, fontweight = \"bold\")\n",
    "    axes[i].tick_params(labelsize = 20)\n",
    "    axes[i].set_xlabel(\"\")\n",
    "\n",
    "fig.tight_layout();"
   ]
  },
  {
   "cell_type": "code",
   "execution_count": 14,
   "metadata": {},
   "outputs": [
    {
     "name": "stdout",
     "output_type": "stream",
     "text": [
      "La columna temperatura, tiene el p-valor 0.0\n",
      "La columna humedad, tiene el p-valor 0.0\n",
      "La columna velocidad_viento, tiene el p-valor 0.0\n"
     ]
    }
   ],
   "source": [
    "for col in columnas_robust:\n",
    "    print(f'La columna {col}, tiene el p-valor {kstest(numericas[col], \"norm\")[-1]}')"
   ]
  },
  {
   "cell_type": "code",
   "execution_count": 15,
   "metadata": {},
   "outputs": [],
   "source": [
    "df_casual[columnas_robust] = numericas_robust\n",
    "df_total[columnas_robust] = numericas_robust\n",
    "df_registrados[columnas_robust] = numericas_robust"
   ]
  },
  {
   "cell_type": "code",
   "execution_count": 16,
   "metadata": {},
   "outputs": [],
   "source": [
    "df_casual.to_pickle('../datos_finales/archivo_casual_est.pkl')\n",
    "df_registrados.to_pickle('../datos_finales/archivo_registrados_est.pkl')\n",
    "df_total.to_pickle('../datos_finales/archivo_total_est.pkl')"
   ]
  },
  {
   "cell_type": "markdown",
   "metadata": {},
   "source": [
    "### Standard Scaler"
   ]
  },
  {
   "cell_type": "code",
   "execution_count": 17,
   "metadata": {},
   "outputs": [],
   "source": [
    "scaler = StandardScaler()"
   ]
  },
  {
   "cell_type": "code",
   "execution_count": 18,
   "metadata": {},
   "outputs": [
    {
     "data": {
      "text/html": [
       "<div>\n",
       "<style scoped>\n",
       "    .dataframe tbody tr th:only-of-type {\n",
       "        vertical-align: middle;\n",
       "    }\n",
       "\n",
       "    .dataframe tbody tr th {\n",
       "        vertical-align: top;\n",
       "    }\n",
       "\n",
       "    .dataframe thead th {\n",
       "        text-align: right;\n",
       "    }\n",
       "</style>\n",
       "<table border=\"1\" class=\"dataframe\">\n",
       "  <thead>\n",
       "    <tr style=\"text-align: right;\">\n",
       "      <th></th>\n",
       "      <th>temperatura</th>\n",
       "      <th>humedad</th>\n",
       "      <th>velocidad_viento</th>\n",
       "    </tr>\n",
       "  </thead>\n",
       "  <tbody>\n",
       "    <tr>\n",
       "      <th>0</th>\n",
       "      <td>-0.827613</td>\n",
       "      <td>1.252343</td>\n",
       "      <td>-0.387833</td>\n",
       "    </tr>\n",
       "    <tr>\n",
       "      <th>1</th>\n",
       "      <td>-0.722069</td>\n",
       "      <td>0.480996</td>\n",
       "      <td>0.748899</td>\n",
       "    </tr>\n",
       "  </tbody>\n",
       "</table>\n",
       "</div>"
      ],
      "text/plain": [
       "   temperatura   humedad  velocidad_viento\n",
       "0    -0.827613  1.252343         -0.387833\n",
       "1    -0.722069  0.480996          0.748899"
      ]
     },
     "execution_count": 18,
     "metadata": {},
     "output_type": "execute_result"
    }
   ],
   "source": [
    "numericas_estandar = pd.DataFrame(scaler.fit_transform(numericas), columns = numericas.columns)\n",
    "numericas_estandar.head(2)"
   ]
  },
  {
   "cell_type": "code",
   "execution_count": 19,
   "metadata": {},
   "outputs": [
    {
     "name": "stdout",
     "output_type": "stream",
     "text": [
      "La columna temperatura, tiene el p-valor 0.0008168084884888232\n",
      "La columna humedad, tiene el p-valor 0.36110084353861616\n",
      "La columna velocidad_viento, tiene el p-valor 0.00675715145775531\n"
     ]
    }
   ],
   "source": [
    "for col in numericas_estandar.columns:\n",
    "    print(f'La columna {col}, tiene el p-valor {kstest(numericas_estandar[col], \"norm\")[-1]}')"
   ]
  },
  {
   "cell_type": "markdown",
   "metadata": {},
   "source": [
    "### Manual"
   ]
  },
  {
   "cell_type": "code",
   "execution_count": 20,
   "metadata": {},
   "outputs": [],
   "source": [
    "def estandarizacion_manual(df, lista_cols):\n",
    "    for col in lista_cols:\n",
    "        media = df[col].mean()\n",
    "        desviacion = df[col].std()\n",
    "        df[col] = (df[col] - media) / desviacion\n",
    "        "
   ]
  },
  {
   "cell_type": "code",
   "execution_count": 21,
   "metadata": {},
   "outputs": [],
   "source": [
    "estandarizacion_manual(numericas, numericas.columns)"
   ]
  },
  {
   "cell_type": "code",
   "execution_count": 22,
   "metadata": {},
   "outputs": [
    {
     "name": "stdout",
     "output_type": "stream",
     "text": [
      "La columna temperatura, tiene el p-valor 0.0008441595872714273\n",
      "La columna humedad, tiene el p-valor 0.3668342710600636\n",
      "La columna velocidad_viento, tiene el p-valor 0.0067552934601946045\n"
     ]
    }
   ],
   "source": [
    "for col in numericas.columns:\n",
    "    print(f'La columna {col}, tiene el p-valor {kstest(numericas[col], \"norm\")[-1]}')"
   ]
  },
  {
   "cell_type": "markdown",
   "metadata": {},
   "source": [
    "### Conclusión\n",
    "\n",
    "De los tres métodos empleados, nos quedamos con el RobustScaler porque no hemos tratado outliers."
   ]
  }
 ],
 "metadata": {
  "kernelspec": {
   "display_name": "base",
   "language": "python",
   "name": "python3"
  },
  "language_info": {
   "codemirror_mode": {
    "name": "ipython",
    "version": 3
   },
   "file_extension": ".py",
   "mimetype": "text/x-python",
   "name": "python",
   "nbconvert_exporter": "python",
   "pygments_lexer": "ipython3",
   "version": "3.9.7"
  },
  "orig_nbformat": 4
 },
 "nbformat": 4,
 "nbformat_minor": 2
}
