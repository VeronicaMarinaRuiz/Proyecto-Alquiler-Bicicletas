{
 "cells": [
  {
   "cell_type": "code",
   "execution_count": 1,
   "metadata": {},
   "outputs": [
    {
     "name": "stderr",
     "output_type": "stream",
     "text": [
      "/Users/monicaserranolorenzo/opt/anaconda3/envs/pagina_web/lib/python3.9/site-packages/sklearn/base.py:348: InconsistentVersionWarning: Trying to unpickle estimator RobustScaler from version 1.3.0 when using version 1.3.1. This might lead to breaking code or invalid results. Use at your own risk. For more info please refer to:\n",
      "https://scikit-learn.org/stable/model_persistence.html#security-maintainability-limitations\n",
      "  warnings.warn(\n",
      "/Users/monicaserranolorenzo/opt/anaconda3/envs/pagina_web/lib/python3.9/site-packages/sklearn/base.py:348: InconsistentVersionWarning: Trying to unpickle estimator DecisionTreeRegressor from version 1.3.0 when using version 1.3.1. This might lead to breaking code or invalid results. Use at your own risk. For more info please refer to:\n",
      "https://scikit-learn.org/stable/model_persistence.html#security-maintainability-limitations\n",
      "  warnings.warn(\n",
      "/Users/monicaserranolorenzo/opt/anaconda3/envs/pagina_web/lib/python3.9/site-packages/sklearn/base.py:348: InconsistentVersionWarning: Trying to unpickle estimator RandomForestRegressor from version 1.3.0 when using version 1.3.1. This might lead to breaking code or invalid results. Use at your own risk. For more info please refer to:\n",
      "https://scikit-learn.org/stable/model_persistence.html#security-maintainability-limitations\n",
      "  warnings.warn(\n",
      "/Users/monicaserranolorenzo/opt/anaconda3/envs/pagina_web/lib/python3.9/site-packages/sklearn/base.py:348: InconsistentVersionWarning: Trying to unpickle estimator DecisionTreeRegressor from version 1.3.0 when using version 1.3.1. This might lead to breaking code or invalid results. Use at your own risk. For more info please refer to:\n",
      "https://scikit-learn.org/stable/model_persistence.html#security-maintainability-limitations\n",
      "  warnings.warn(\n",
      "/Users/monicaserranolorenzo/opt/anaconda3/envs/pagina_web/lib/python3.9/site-packages/sklearn/base.py:348: InconsistentVersionWarning: Trying to unpickle estimator RandomForestRegressor from version 1.3.0 when using version 1.3.1. This might lead to breaking code or invalid results. Use at your own risk. For more info please refer to:\n",
      "https://scikit-learn.org/stable/model_persistence.html#security-maintainability-limitations\n",
      "  warnings.warn(\n",
      "/Users/monicaserranolorenzo/opt/anaconda3/envs/pagina_web/lib/python3.9/site-packages/sklearn/base.py:348: InconsistentVersionWarning: Trying to unpickle estimator DummyRegressor from version 1.3.0 when using version 1.3.1. This might lead to breaking code or invalid results. Use at your own risk. For more info please refer to:\n",
      "https://scikit-learn.org/stable/model_persistence.html#security-maintainability-limitations\n",
      "  warnings.warn(\n",
      "/Users/monicaserranolorenzo/opt/anaconda3/envs/pagina_web/lib/python3.9/site-packages/sklearn/base.py:348: InconsistentVersionWarning: Trying to unpickle estimator DecisionTreeRegressor from version 1.3.0 when using version 1.3.1. This might lead to breaking code or invalid results. Use at your own risk. For more info please refer to:\n",
      "https://scikit-learn.org/stable/model_persistence.html#security-maintainability-limitations\n",
      "  warnings.warn(\n",
      "/Users/monicaserranolorenzo/opt/anaconda3/envs/pagina_web/lib/python3.9/site-packages/sklearn/base.py:348: InconsistentVersionWarning: Trying to unpickle estimator GradientBoostingRegressor from version 1.3.0 when using version 1.3.1. This might lead to breaking code or invalid results. Use at your own risk. For more info please refer to:\n",
      "https://scikit-learn.org/stable/model_persistence.html#security-maintainability-limitations\n",
      "  warnings.warn(\n"
     ]
    }
   ],
   "source": [
    "import streamlit as st\n",
    "import requests\n",
    "from streamlit_lottie import st_lottie\n",
    "from PIL import Image\n",
    "import soporte as sp"
   ]
  },
  {
   "cell_type": "markdown",
   "metadata": {},
   "source": [
    "- Creamos un código de python con el que se realiza un archivo .py de manera automática para después ejercutarlo."
   ]
  },
  {
   "cell_type": "code",
   "execution_count": 2,
   "metadata": {},
   "outputs": [
    {
     "name": "stdout",
     "output_type": "stream",
     "text": [
      "Overwriting app.py\n"
     ]
    }
   ],
   "source": [
    "%%writefile app.py\n",
    "import streamlit as st\n",
    "import requests\n",
    "from streamlit_lottie import st_lottie\n",
    "from PIL import Image\n",
    "import soporte as sp\n",
    "\n",
    "# Función para nuestra animación\n",
    "def load_lottieurl(url):\n",
    "  r = requests.get(url)\n",
    "  if r.status_code != 200:\n",
    "    return None\n",
    "  return r.json()\n",
    "\n",
    "lottie_coding = load_lottieurl(\"https://lottie.host/3d70aeb0-1e6d-45ee-a406-10fd6b08d00b/akZviixXff.json\")\n",
    "imagen_video = Image.open(\"fotos/titulo_grupo.jpg\")\n",
    "\n",
    "with st.container():\n",
    "  st.image(imagen_video)\n",
    "  st.title(\"Bienvenido al estimador de bicicletas de Washington D. C.\")\n",
    "  st.subheader(\"Powered by SuperData 💻\")\n",
    "  st.write(\"Con este simulador podrás estimar cuantas bicicletas se van a alquilar en Washington D.C. dependiendo de las condiciones climática y el día de la semana.\")\n",
    "\n",
    "with st.container():\n",
    "  st.write(\"---\")\n",
    "  left_column, right_column = st.columns(2)\n",
    "  with left_column:\n",
    "    st.header(\"¿Qué necesitamos?\")\n",
    "    st.write(\"Necesitamos que nos indiques en qué te quieres basar y posteriormente te pediremos unos datos para hacer la predicción.\")\n",
    "    st.write(\"[Tiempo en Whashinton D.C.](https://weather.com/weather/tenday/l/Washington+DC?canonicalCityId=4c0ca6d01716c299f53606df83d99d5eb96b2ee0efbe3cd15d35ddd29dee93b2)\")\n",
    "  with right_column:\n",
    "    st_lottie(lottie_coding, height = 300, key = \"coding\")\n",
    "\n",
    "with st.container():\n",
    "  st.write(\"---\")\n",
    "  modelo = st.selectbox('¿Qué quieres predecir?',['Selecciona una opción','Clientes Casuales','Clientes Registrados', 'Clientes Totales'])\n",
    "  if modelo == 'Clientes Casuales':\n",
    "    estacion = st.selectbox('¿Qué estación quieres consultar?',['Selecciona una opción','invierno', 'primavera', 'verano', 'otoño'])\n",
    "    año = st.text_input('¿Qué año quieres consultar?')\n",
    "    mes = st.selectbox('¿Qué estación quieres consultar?',['Selecciona una opción','Enero', 'Febrero', 'Marzo', 'Abril', 'Mayo', 'Junio', 'Julio',\n",
    "       'Agosto', 'Septiembre', 'Octubre', 'Noviembre', 'Diciembre'])\n",
    "    dia_semana = st.selectbox('¿Qué día de la semana quieres consultar?',['Selecciona una opción','Lunes','Martes','Miercoles','Jueves','Viernes','Sabado','Domingo'])\n",
    "    dias_laborables = st.selectbox('¿Es laborable?',['Selecciona una opción','festivo', 'laborable', 'fin de semana'])\n",
    "    tiempo = st.selectbox('¿Qué tiempo va a hacer?',['Selecciona una opción','nuboso', 'despejado', 'lluvioso'])\n",
    "    temperatura = st.text_input('¿Qué temperatura hace (ºC)?')\n",
    "    humedad = st.text_input('¿Qué humedad habrá (%)?')\n",
    "    velocidad_viento = st.text_input('¿Qué velocidad tendrá el viento (km/h)?')\n",
    "    if st.button('Predecir'):\n",
    "      if estacion == 'Selecciona una opción' or año == '' or mes == 'Selecciona una opción' or dia_semana == 'Selecciona una opción' or dias_laborables == 'Selecciona una opción' or tiempo == 'Selecciona una opción' or temperatura == '' or humedad == '' or  velocidad_viento == '':\n",
    "        pass\n",
    "      else:\n",
    "        prediccion = sp.prediccion_casuales(estacion,año,mes,dia_semana,dias_laborables,tiempo,temperatura,humedad,velocidad_viento)\n",
    "        st.write(prediccion)\n",
    "\n",
    "  elif modelo == 'Clientes Registrados':\n",
    "    estacion = st.selectbox('¿Qué estación quieres consultar?',['Selecciona una opción','invierno', 'primavera', 'verano', 'otoño'])\n",
    "    año = st.text_input('¿Qué año quieres consultar?')\n",
    "    mes = st.selectbox('¿Qué estación quieres consultar?',['Selecciona una opción','Enero', 'Febrero', 'Marzo', 'Abril', 'Mayo', 'Junio', 'Julio',\n",
    "       'Agosto', 'Septiembre', 'Octubre', 'Noviembre', 'Diciembre'])\n",
    "    dia_semana = st.selectbox('¿Qué día de la semana quieres consultar?',['Selecciona una opción','Lunes','Martes','Miercoles','Jueves','Viernes','Sabado','Domingo'])\n",
    "    dias_laborables = st.selectbox('¿Es laborable?',['Selecciona una opción','festivo', 'laborable', 'fin de semana'])\n",
    "    tiempo = st.selectbox('¿Qué tiempo va a hacer?',['Selecciona una opción','nuboso', 'despejado', 'lluvioso'])\n",
    "    temperatura = st.text_input('¿Qué temperatura hace (ºC)?')\n",
    "    humedad = st.text_input('¿Qué humedad habrá (%)?')\n",
    "    velocidad_viento = st.text_input('¿Qué velocidad tendrá el viento (km/h)?')\n",
    "    if st.button('Predecir'):\n",
    "      if estacion == 'Selecciona una opción' or año == '' or mes == 'Selecciona una opción' or dia_semana == 'Selecciona una opción' or dias_laborables == 'Selecciona una opción' or tiempo == 'Selecciona una opción' or temperatura == '' or humedad == '' or  velocidad_viento == '':\n",
    "        pass\n",
    "      else:\n",
    "        prediccion = sp.prediccion_registrados(estacion,año,mes,dia_semana,dias_laborables,tiempo,temperatura,humedad,velocidad_viento)\n",
    "        st.write(prediccion)\n",
    "\n",
    "  elif modelo == 'Clientes Totales':\n",
    "    estacion = st.selectbox('¿Qué estación quieres consultar?',['Selecciona una opción','invierno', 'primavera', 'verano', 'otoño'])\n",
    "    año = st.text_input('¿Qué año quieres consultar?')\n",
    "    mes = st.selectbox('¿Qué estación quieres consultar?',['Selecciona una opción','Enero', 'Febrero', 'Marzo', 'Abril', 'Mayo', 'Junio', 'Julio',\n",
    "       'Agosto', 'Septiembre', 'Octubre', 'Noviembre', 'Diciembre'])\n",
    "    dia_semana = st.selectbox('¿Qué día de la semana quieres consultar?',['Selecciona una opción','Lunes','Martes','Miercoles','Jueves','Viernes','Sabado','Domingo'])\n",
    "    temperatura = st.text_input('¿Qué temperatura hace (ºC)?')\n",
    "    humedad = st.text_input('¿Qué humedad habrá (%)?')\n",
    "    velocidad_viento = st.text_input('¿Qué velocidad tendrá el viento (km/h)?')\n",
    "    if st.button('Predecir'):\n",
    "      if estacion == 'Selecciona una opción' or año == '' or mes == 'Selecciona una opción' or dia_semana == 'Selecciona una opción' or temperatura == '' or humedad == '' or  velocidad_viento == '':\n",
    "        pass\n",
    "      else:\n",
    "        prediccion = sp.prediccion_total(estacion,año,mes,dia_semana,temperatura,humedad,velocidad_viento)\n",
    "        st.write(prediccion)"
   ]
  },
  {
   "cell_type": "code",
   "execution_count": 4,
   "metadata": {},
   "outputs": [
    {
     "name": "stdout",
     "output_type": "stream",
     "text": [
      "\u001b[0m\n",
      "\u001b[34m\u001b[1m  You can now view your Streamlit app in your browser.\u001b[0m\n",
      "\u001b[0m\n",
      "\u001b[34m  Local URL: \u001b[0m\u001b[1mhttp://localhost:8501\u001b[0m\n",
      "\u001b[34m  Network URL: \u001b[0m\u001b[1mhttp://192.168.1.47:8501\u001b[0m\n",
      "\u001b[0m\n",
      "\u001b[34m\u001b[1m  For better performance, install the Watchdog module:\u001b[0m\n",
      "\n",
      "  $ xcode-select --install\n",
      "  $ pip install watchdog\n",
      "            \u001b[0m\n",
      "/Users/monicaserranolorenzo/opt/anaconda3/envs/pagina_web/lib/python3.9/site-packages/sklearn/base.py:348: InconsistentVersionWarning: Trying to unpickle estimator RobustScaler from version 1.3.0 when using version 1.3.1. This might lead to breaking code or invalid results. Use at your own risk. For more info please refer to:\n",
      "https://scikit-learn.org/stable/model_persistence.html#security-maintainability-limitations\n",
      "  warnings.warn(\n",
      "/Users/monicaserranolorenzo/opt/anaconda3/envs/pagina_web/lib/python3.9/site-packages/sklearn/base.py:348: InconsistentVersionWarning: Trying to unpickle estimator DecisionTreeRegressor from version 1.3.0 when using version 1.3.1. This might lead to breaking code or invalid results. Use at your own risk. For more info please refer to:\n",
      "https://scikit-learn.org/stable/model_persistence.html#security-maintainability-limitations\n",
      "  warnings.warn(\n",
      "/Users/monicaserranolorenzo/opt/anaconda3/envs/pagina_web/lib/python3.9/site-packages/sklearn/base.py:348: InconsistentVersionWarning: Trying to unpickle estimator RandomForestRegressor from version 1.3.0 when using version 1.3.1. This might lead to breaking code or invalid results. Use at your own risk. For more info please refer to:\n",
      "https://scikit-learn.org/stable/model_persistence.html#security-maintainability-limitations\n",
      "  warnings.warn(\n",
      "/Users/monicaserranolorenzo/opt/anaconda3/envs/pagina_web/lib/python3.9/site-packages/sklearn/base.py:348: InconsistentVersionWarning: Trying to unpickle estimator DecisionTreeRegressor from version 1.3.0 when using version 1.3.1. This might lead to breaking code or invalid results. Use at your own risk. For more info please refer to:\n",
      "https://scikit-learn.org/stable/model_persistence.html#security-maintainability-limitations\n",
      "  warnings.warn(\n",
      "/Users/monicaserranolorenzo/opt/anaconda3/envs/pagina_web/lib/python3.9/site-packages/sklearn/base.py:348: InconsistentVersionWarning: Trying to unpickle estimator RandomForestRegressor from version 1.3.0 when using version 1.3.1. This might lead to breaking code or invalid results. Use at your own risk. For more info please refer to:\n",
      "https://scikit-learn.org/stable/model_persistence.html#security-maintainability-limitations\n",
      "  warnings.warn(\n",
      "/Users/monicaserranolorenzo/opt/anaconda3/envs/pagina_web/lib/python3.9/site-packages/sklearn/base.py:348: InconsistentVersionWarning: Trying to unpickle estimator DummyRegressor from version 1.3.0 when using version 1.3.1. This might lead to breaking code or invalid results. Use at your own risk. For more info please refer to:\n",
      "https://scikit-learn.org/stable/model_persistence.html#security-maintainability-limitations\n",
      "  warnings.warn(\n",
      "/Users/monicaserranolorenzo/opt/anaconda3/envs/pagina_web/lib/python3.9/site-packages/sklearn/base.py:348: InconsistentVersionWarning: Trying to unpickle estimator DecisionTreeRegressor from version 1.3.0 when using version 1.3.1. This might lead to breaking code or invalid results. Use at your own risk. For more info please refer to:\n",
      "https://scikit-learn.org/stable/model_persistence.html#security-maintainability-limitations\n",
      "  warnings.warn(\n",
      "/Users/monicaserranolorenzo/opt/anaconda3/envs/pagina_web/lib/python3.9/site-packages/sklearn/base.py:348: InconsistentVersionWarning: Trying to unpickle estimator GradientBoostingRegressor from version 1.3.0 when using version 1.3.1. This might lead to breaking code or invalid results. Use at your own risk. For more info please refer to:\n",
      "https://scikit-learn.org/stable/model_persistence.html#security-maintainability-limitations\n",
      "  warnings.warn(\n",
      "/Users/monicaserranolorenzo/Desktop/adalab/proyectos/promoE-modulo3-proyecto-equipo4-IreneMonicayVero/notebooks/streamlit/soporte.py:155: FutureWarning: Setting an item of incompatible dtype is deprecated and will raise in a future error of pandas. Value '1.47' has dtype incompatible with int64, please explicitly cast to a compatible dtype first.\n",
      "  usuario.loc[0,'año'] = 1.47\n",
      "^C\n",
      "\u001b[34m  Stopping...\u001b[0m\n"
     ]
    }
   ],
   "source": [
    "!streamlit run app.py"
   ]
  }
 ],
 "metadata": {
  "kernelspec": {
   "display_name": "base",
   "language": "python",
   "name": "python3"
  },
  "language_info": {
   "codemirror_mode": {
    "name": "ipython",
    "version": 3
   },
   "file_extension": ".py",
   "mimetype": "text/x-python",
   "name": "python",
   "nbconvert_exporter": "python",
   "pygments_lexer": "ipython3",
   "version": "3.9.7"
  },
  "orig_nbformat": 4
 },
 "nbformat": 4,
 "nbformat_minor": 2
}
